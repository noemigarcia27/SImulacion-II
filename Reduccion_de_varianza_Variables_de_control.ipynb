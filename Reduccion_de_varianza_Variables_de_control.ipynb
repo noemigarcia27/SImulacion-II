{
  "nbformat": 4,
  "nbformat_minor": 0,
  "metadata": {
    "colab": {
      "provenance": [],
      "authorship_tag": "ABX9TyPqZmt9WzpDLZb3OoEqinH0",
      "include_colab_link": true
    },
    "kernelspec": {
      "name": "python3",
      "display_name": "Python 3"
    },
    "language_info": {
      "name": "python"
    }
  },
  "cells": [
    {
      "cell_type": "markdown",
      "metadata": {
        "id": "view-in-github",
        "colab_type": "text"
      },
      "source": [
        "<a href=\"https://colab.research.google.com/github/noemigarcia27/SImulacion-II/blob/main/Reduccion_de_varianza_Variables_de_control.ipynb\" target=\"_parent\"><img src=\"https://colab.research.google.com/assets/colab-badge.svg\" alt=\"Open In Colab\"/></a>"
      ]
    },
    {
      "cell_type": "markdown",
      "source": [
        "Metodo de reduccion de la varianza:\n",
        "##Variables de control"
      ],
      "metadata": {
        "id": "_CJbd7V70UIC"
      }
    },
    {
      "cell_type": "code",
      "execution_count": null,
      "metadata": {
        "id": "iogH2mXz0FZD"
      },
      "outputs": [],
      "source": [
        "import numpy as np\n",
        "import matplotlib.pyplot as plt\n",
        "import random as rd\n",
        "import time"
      ]
    },
    {
      "cell_type": "markdown",
      "source": [
        "Ejemplo:\n",
        "Estimar $ I= \\int_{0}^{1} \\frac{1}{1+x^2} dx $"
      ],
      "metadata": {
        "id": "1_Ky_iN60dAX"
      }
    },
    {
      "cell_type": "code",
      "source": [
        "def g(x):\n",
        "  return 1 / 1+x**2"
      ],
      "metadata": {
        "id": "fvVpGlVB0I3d"
      },
      "execution_count": null,
      "outputs": []
    },
    {
      "cell_type": "markdown",
      "source": [
        "Utilizamos le método de MC crudo"
      ],
      "metadata": {
        "id": "toxX_awJ1HB5"
      }
    },
    {
      "cell_type": "code",
      "source": [
        "def mc_crudo(N,n):\n",
        "  start_time = time.perf_counter()\n",
        "  resultados_c=[] #se guardan las estimaciones\n",
        "  for i in range(n): #n numero de estimaciones, comienza a hacer el bucle\n",
        "    lista_c=[]\n",
        "    for j in range(N):  #N es el tamaño de la muestra\n",
        "      u=rd.random()\n",
        "      lista_c.append(g(u))\n",
        "    resultados_c.append(lista_c)\n",
        "  end_time = time.perf_counter()\n",
        "  execution_time = end_time - start_time\n",
        "  return np.mean(lista_c), np.var(lista_c), execution_time"
      ],
      "metadata": {
        "id": "wtWjsXpT1C5y"
      },
      "execution_count": null,
      "outputs": []
    },
    {
      "cell_type": "code",
      "source": [
        "mean2, var2, t2 = mc_crudo(1000,100)"
      ],
      "metadata": {
        "id": "xnm8YeIN1g5Z"
      },
      "execution_count": null,
      "outputs": []
    },
    {
      "cell_type": "code",
      "source": [
        "print(\"Método Crudo:            media:\", mean2, \" varianza:\", var2, \" tiempo:\", t2)"
      ],
      "metadata": {
        "colab": {
          "base_uri": "https://localhost:8080/"
        },
        "id": "E0r1VHw61pCH",
        "outputId": "a81a16de-07da-4ce8-f497-73d76a5fe8a7"
      },
      "execution_count": null,
      "outputs": [
        {
          "output_type": "stream",
          "name": "stdout",
          "text": [
            "Método Crudo:            media: 1.3353454693783489  varianza: 0.08857840139329314  tiempo: 0.021486890000005587\n"
          ]
        }
      ]
    },
    {
      "cell_type": "markdown",
      "source": [
        "Utilizamos la variable\n",
        "$ X= \\frac{ \\frac{1}{1+u_{1}^{2}} + \\frac{1}{1+u_{2}^{2}} + \\cdots \\frac{1}{1+u_{n}^{2}} }{n} $"
      ],
      "metadata": {
        "id": "6tigiiIG1yVS"
      }
    },
    {
      "cell_type": "code",
      "source": [],
      "metadata": {
        "id": "Jt6qzVDX1vJz"
      },
      "execution_count": null,
      "outputs": []
    }
  ]
}