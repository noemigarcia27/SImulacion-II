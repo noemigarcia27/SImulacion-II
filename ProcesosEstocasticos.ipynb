{
  "nbformat": 4,
  "nbformat_minor": 0,
  "metadata": {
    "colab": {
      "provenance": [],
      "authorship_tag": "ABX9TyNLnQt+mxsNrI0SmafRwuhP",
      "include_colab_link": true
    },
    "kernelspec": {
      "name": "python3",
      "display_name": "Python 3"
    },
    "language_info": {
      "name": "python"
    }
  },
  "cells": [
    {
      "cell_type": "markdown",
      "metadata": {
        "id": "view-in-github",
        "colab_type": "text"
      },
      "source": [
        "<a href=\"https://colab.research.google.com/github/noemigarcia27/SImulacion-II/blob/main/ProcesosEstocasticos.ipynb\" target=\"_parent\"><img src=\"https://colab.research.google.com/assets/colab-badge.svg\" alt=\"Open In Colab\"/></a>"
      ]
    },
    {
      "cell_type": "markdown",
      "source": [
        "Procesos estocasticos"
      ],
      "metadata": {
        "id": "qsCh0uK1S4Tz"
      }
    },
    {
      "cell_type": "code",
      "execution_count": null,
      "metadata": {
        "id": "xRgogz4kS2ym"
      },
      "outputs": [],
      "source": [
        "import matplotlib.pyplot as plt\n",
        "import numpy as np\n",
        "from tabulate import tabulate"
      ]
    },
    {
      "cell_type": "markdown",
      "source": [
        "definimos el primer estado\n",
        "El primer dia que hicimos la observacione sta seco"
      ],
      "metadata": {
        "id": "qeKW4ZFoVtxc"
      }
    },
    {
      "cell_type": "code",
      "source": [
        "p0 = 1\n",
        "q0 = 0\n",
        "n = 25"
      ],
      "metadata": {
        "id": "edshhh3LTBbv"
      },
      "execution_count": null,
      "outputs": []
    },
    {
      "cell_type": "markdown",
      "source": [
        "se va actualizando el valor de $p_i$"
      ],
      "metadata": {
        "id": "6CZN5J-rV0xn"
      }
    },
    {
      "cell_type": "code",
      "source": [
        "p_i = []\n",
        "q_i = []\n",
        "for i in range(n):\n",
        "  pi = 0.8 * p0 + 0.6 * q0\n",
        "  qi = 0.2 * p0 + 0.4 * q0\n",
        "  p_i.append(pi)\n",
        "  q_i.append(qi)\n",
        "  p0 = pi\n",
        "  q0 = qi"
      ],
      "metadata": {
        "id": "_T3UvMVaTKjI"
      },
      "execution_count": null,
      "outputs": []
    },
    {
      "cell_type": "code",
      "source": [
        "datos = [\"t\", \"p\", \"q\"]\n",
        "tabla = []\n",
        "for i in range(n):\n",
        "  tabla.append([i, p_i[i], q_i[i]])\n",
        "print(tabulate(tabla, headers=datos))"
      ],
      "metadata": {
        "colab": {
          "base_uri": "https://localhost:8080/"
        },
        "id": "e4q9VLVSWMT1",
        "outputId": "e5ff763e-d4e1-40c9-b973-da59c6b78d7d"
      },
      "execution_count": null,
      "outputs": [
        {
          "output_type": "stream",
          "name": "stdout",
          "text": [
            "  t         p         q\n",
            "---  --------  --------\n",
            "  0  0.8       0.2\n",
            "  1  0.76      0.24\n",
            "  2  0.752     0.248\n",
            "  3  0.7504    0.2496\n",
            "  4  0.75008   0.24992\n",
            "  5  0.750016  0.249984\n",
            "  6  0.750003  0.249997\n",
            "  7  0.750001  0.249999\n",
            "  8  0.75      0.25\n",
            "  9  0.75      0.25\n",
            " 10  0.75      0.25\n",
            " 11  0.75      0.25\n",
            " 12  0.75      0.25\n",
            " 13  0.75      0.25\n",
            " 14  0.75      0.25\n",
            " 15  0.75      0.25\n",
            " 16  0.75      0.25\n",
            " 17  0.75      0.25\n",
            " 18  0.75      0.25\n",
            " 19  0.75      0.25\n",
            " 20  0.75      0.25\n",
            " 21  0.75      0.25\n",
            " 22  0.75      0.25\n",
            " 23  0.75      0.25\n",
            " 24  0.75      0.25\n"
          ]
        }
      ]
    },
    {
      "cell_type": "code",
      "source": [
        "plt.figure(figsize=(10, 6))\n",
        "plt.plot(p_i, label='p')\n",
        "plt.plot(q_i, label='q')\n",
        "plt.legend()\n",
        "plt.show()"
      ],
      "metadata": {
        "colab": {
          "base_uri": "https://localhost:8080/",
          "height": 522
        },
        "id": "o2EvQoP5UFfv",
        "outputId": "eee621e0-d520-446f-c32a-5156a81dc3a3"
      },
      "execution_count": null,
      "outputs": [
        {
          "output_type": "display_data",
          "data": {
            "text/plain": [
              "<Figure size 1000x600 with 1 Axes>"
            ],
            "image/png": "[encoded data removed]"
          },
          "metadata": {}
        }
      ]
    },
    {
      "cell_type": "code",
      "source": [],
      "metadata": {
        "id": "z5fXz0HwVI7m"
      },
      "execution_count": null,
      "outputs": []
    }
  ]
}