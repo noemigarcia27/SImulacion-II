{
  "cells": [
    {
      "cell_type": "markdown",
      "metadata": {
        "id": "view-in-github",
        "colab_type": "text"
      },
      "source": [
        "<a href=\"https://colab.research.google.com/github/noemigarcia27/SImulacion-II/blob/main/Unidad%20I/GeneradorCongruencia.ipynb\" target=\"_parent\"><img src=\"https://colab.research.google.com/assets/colab-badge.svg\" alt=\"Open In Colab\"/></a>"
      ]
    },
    {
      "cell_type": "code",
      "execution_count": 1,
      "metadata": {
        "id": "h4XU0Q8GBsH4"
      },
      "outputs": [],
      "source": [
        "\n",
        "import tabulate"
      ]
    },
    {
      "cell_type": "code",
      "execution_count": 2,
      "metadata": {
        "id": "PGHpE2t5BsH4"
      },
      "outputs": [],
      "source": [
        "def generador(a,b,m,x0):\n",
        "    x1=(a*x0+b) %m\n",
        "    return x1"
      ]
    },
    {
      "cell_type": "code",
      "execution_count": 3,
      "metadata": {
        "id": "VRpv0LQpBsH4",
        "outputId": "2460f20f-b653-4663-b553-c7437c54d718",
        "colab": {
          "base_uri": "https://localhost:8080/"
        }
      },
      "outputs": [
        {
          "output_type": "stream",
          "name": "stdout",
          "text": [
            "+-----+-------+-----------+\n",
            "|  i  |  x_i  |  X_{i+1}  |\n",
            "|-----+-------+-----------|\n",
            "|  0  |   1   |  0.1875   |\n",
            "|  1  |  12   | 0.046875  |\n",
            "|  2  |   3   |  0.34375  |\n",
            "|  3  |  22   | 0.828125  |\n",
            "|  4  |  53   |   0.25    |\n",
            "|  5  |  16   | 0.359375  |\n",
            "|  6  |  23   |  0.90625  |\n",
            "|  7  |  58   | 0.640625  |\n",
            "|  8  |  41   |  0.3125   |\n",
            "|  9  |  20   | 0.671875  |\n",
            "| 10  |  43   |  0.46875  |\n",
            "| 11  |  30   | 0.453125  |\n",
            "| 12  |  29   |   0.375   |\n",
            "| 13  |  24   | 0.984375  |\n",
            "| 14  |  63   |  0.03125  |\n",
            "| 15  |   2   | 0.265625  |\n",
            "| 16  |  17   |  0.4375   |\n",
            "| 17  |  28   | 0.296875  |\n",
            "| 18  |  19   |  0.59375  |\n",
            "| 19  |  38   | 0.078125  |\n",
            "| 20  |   5   |    0.5    |\n",
            "| 21  |  32   | 0.609375  |\n",
            "| 22  |  39   |  0.15625  |\n",
            "| 23  |  10   | 0.890625  |\n",
            "| 24  |  57   |  0.5625   |\n",
            "| 25  |  36   | 0.921875  |\n",
            "| 26  |  59   |  0.71875  |\n",
            "| 27  |  46   | 0.703125  |\n",
            "| 28  |  45   |   0.625   |\n",
            "| 29  |  40   | 0.234375  |\n",
            "| 30  |  15   |  0.28125  |\n",
            "| 31  |  18   | 0.515625  |\n",
            "| 32  |  33   |  0.6875   |\n",
            "| 33  |  44   | 0.546875  |\n",
            "| 34  |  35   |  0.84375  |\n",
            "| 35  |  54   | 0.328125  |\n",
            "| 36  |  21   |   0.75    |\n",
            "| 37  |  48   | 0.859375  |\n",
            "| 38  |  55   |  0.40625  |\n",
            "| 39  |  26   | 0.140625  |\n",
            "| 40  |   9   |  0.8125   |\n",
            "| 41  |  52   | 0.171875  |\n",
            "| 42  |  11   |  0.96875  |\n",
            "| 43  |  62   | 0.953125  |\n",
            "| 44  |  61   |   0.875   |\n",
            "| 45  |  56   | 0.484375  |\n",
            "| 46  |  31   |  0.53125  |\n",
            "| 47  |  34   | 0.765625  |\n",
            "| 48  |  49   |  0.9375   |\n",
            "| 49  |  60   | 0.796875  |\n",
            "| 50  |  51   |  0.09375  |\n",
            "| 51  |   6   | 0.578125  |\n",
            "| 52  |  37   |     0     |\n",
            "| 53  |   0   | 0.109375  |\n",
            "| 54  |   7   |  0.65625  |\n",
            "| 55  |  42   | 0.390625  |\n",
            "| 56  |  25   |  0.0625   |\n",
            "| 57  |   4   | 0.421875  |\n",
            "| 58  |  27   |  0.21875  |\n",
            "| 59  |  14   | 0.203125  |\n",
            "| 60  |  13   |   0.125   |\n",
            "| 61  |   8   | 0.734375  |\n",
            "| 62  |  47   |  0.78125  |\n",
            "| 63  |  50   | 0.015625  |\n",
            "+-----+-------+-----------+\n"
          ]
        }
      ],
      "source": [
        "n=64\n",
        "a=5\n",
        "b=7\n",
        "m=64\n",
        "x0=1\n",
        "\n",
        "muestra=[]\n",
        "datos=[]\n",
        "\n",
        "for i in range(n):\n",
        "    nuevo=generador(a,b,m,x0)\n",
        "    muestra.append([i,x0,nuevo/64])\n",
        "    datos.append(x0/64)\n",
        "    x0=nuevo\n",
        "\n",
        "encabezados=[\"i\", \"x_i\", \"X_{i+1}\"]\n",
        "print(tabulate.tabulate(muestra, headers=encabezados,tablefmt=\"psql\",numalign=\"center\"))"
      ]
    },
    {
      "cell_type": "code",
      "execution_count": 4,
      "metadata": {
        "id": "v9QhqwakBsH5",
        "outputId": "c1787348-1357-4457-dec9-a29e486c2b94",
        "colab": {
          "base_uri": "https://localhost:8080/"
        }
      },
      "outputs": [
        {
          "output_type": "stream",
          "name": "stdout",
          "text": [
            "[0.015625, 0.1875, 0.046875, 0.34375, 0.828125, 0.25, 0.359375, 0.90625, 0.640625, 0.3125, 0.671875, 0.46875, 0.453125, 0.375, 0.984375, 0.03125, 0.265625, 0.4375, 0.296875, 0.59375, 0.078125, 0.5, 0.609375, 0.15625, 0.890625, 0.5625, 0.921875, 0.71875, 0.703125, 0.625, 0.234375, 0.28125, 0.515625, 0.6875, 0.546875, 0.84375, 0.328125, 0.75, 0.859375, 0.40625, 0.140625, 0.8125, 0.171875, 0.96875, 0.953125, 0.875, 0.484375, 0.53125, 0.765625, 0.9375, 0.796875, 0.09375, 0.578125, 0.0, 0.109375, 0.65625, 0.390625, 0.0625, 0.421875, 0.21875, 0.203125, 0.125, 0.734375, 0.78125]\n"
          ]
        }
      ],
      "source": [
        "print(datos)"
      ]
    },
    {
      "cell_type": "code",
      "execution_count": null,
      "metadata": {
        "id": "qfXPwkC_BsH5"
      },
      "outputs": [],
      "source": []
    }
  ],
  "metadata": {
    "kernelspec": {
      "display_name": "Python 3",
      "language": "python",
      "name": "python3"
    },
    "language_info": {
      "codemirror_mode": {
        "name": "ipython",
        "version": 3
      },
      "file_extension": ".py",
      "mimetype": "text/x-python",
      "name": "python",
      "nbconvert_exporter": "python",
      "pygments_lexer": "ipython3",
      "version": "3.8.3"
    },
    "colab": {
      "provenance": [],
      "include_colab_link": true
    }
  },
  "nbformat": 4,
  "nbformat_minor": 0
}