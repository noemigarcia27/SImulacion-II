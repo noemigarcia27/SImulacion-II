{
  "nbformat": 4,
  "nbformat_minor": 0,
  "metadata": {
    "colab": {
      "provenance": [],
      "authorship_tag": "ABX9TyNDVEJ2n9avUzHK2x9liSGk",
      "include_colab_link": true
    },
    "kernelspec": {
      "name": "python3",
      "display_name": "Python 3"
    },
    "language_info": {
      "name": "python"
    }
  },
  "cells": [
    {
      "cell_type": "markdown",
      "metadata": {
        "id": "view-in-github",
        "colab_type": "text"
      },
      "source": [
        "<a href=\"https://colab.research.google.com/github/noemigarcia27/SImulacion-II/blob/main/Reduccion_de_la_varianza_I.ipynb\" target=\"_parent\"><img src=\"https://colab.research.google.com/assets/colab-badge.svg\" alt=\"Open In Colab\"/></a>"
      ]
    },
    {
      "cell_type": "markdown",
      "source": [
        "# **Reducción de la varianza**\n",
        "# Variables antitéticas\n",
        "\n",
        "Las librerias que vamos a ocupar son las siguientes"
      ],
      "metadata": {
        "id": "pLoSkBEjByYa"
      }
    },
    {
      "cell_type": "code",
      "execution_count": 1,
      "metadata": {
        "id": "ZeJ8q5phBrNk"
      },
      "outputs": [],
      "source": [
        "import numpy as np\n",
        "import matplotlib.pyplot as plt\n",
        "import random as rd\n",
        "import time"
      ]
    },
    {
      "cell_type": "markdown",
      "source": [
        "Nuestra función para este ejercicio es:\n",
        "$$ g(x) = \\sqrt{arctan(x)} dx  $$"
      ],
      "metadata": {
        "id": "swmyz-cbCsb3"
      }
    },
    {
      "cell_type": "code",
      "source": [
        "def g(x):\n",
        "  return np.sqrt(np.arctan(x))"
      ],
      "metadata": {
        "id": "AJ6XrYoTC3MD"
      },
      "execution_count": 3,
      "outputs": []
    },
    {
      "cell_type": "markdown",
      "source": [
        "El siguiente codigo es el método de **Monte Carlo crudo** que ya habiamos hecho anteriormente"
      ],
      "metadata": {
        "id": "gQXc0uOYJTaL"
      }
    },
    {
      "cell_type": "code",
      "source": [
        "def mc_crudo(N, n, func=g, a=0.0, b=1.0):\n",
        "  thetas = []\n",
        "  t0 = time.perf_counter()\n",
        "  for _ in range(n):\n",
        "      suma = 0.0\n",
        "      for _ in range(N):\n",
        "        u = rd.random()\n",
        "        x = a + u * (b - a)\n",
        "        suma += func(x)\n",
        "      theta2 = (b - a) / N * suma\n",
        "      thetas.append(theta2)\n",
        "  t1 = time.perf_counter()\n",
        "  tiempo_promedio = (t1 - t0) / n\n",
        "  return np.mean(thetas), np.var(thetas), tiempo_promedio"
      ],
      "metadata": {
        "id": "7Fmg7NQ-Jamk"
      },
      "execution_count": 4,
      "outputs": []
    },
    {
      "cell_type": "markdown",
      "source": [
        "Vamos a hacer la reducción con el método de variables antitéticas para el método de Monte Carlo crudo, usando el teorema\n",
        "$$ \\text{Var} ( \\frac{ X_1 + X_2 }{2} ) = \\frac{1}{4} [ \\text{Var} (X_1) + \\text{Var} (X_2) + 2 \\text{Cov} ( X_1 + X_2 )] $$\n",
        "\n",
        "\n",
        "\n",
        "En el siguiente codigo en vez de usar muestras u (como en el Método MC crudo) se utiliza 1-u"
      ],
      "metadata": {
        "id": "w6vVQz6EJB8X"
      }
    },
    {
      "cell_type": "code",
      "source": [
        "def mc_crudo_1u(N, n, func=g, a=0.0, b=1.0):\n",
        "  thetas = []\n",
        "  t0 = time.perf_counter()\n",
        "  for _ in range(n):\n",
        "      suma = 0.0\n",
        "      for _ in range(N):\n",
        "        u = rd.random()\n",
        "        x = a + (1-u) * (b - a)\n",
        "        suma += func(x)\n",
        "      theta2 = (b - a) / N * suma\n",
        "      thetas.append(theta2)\n",
        "  t1 = time.perf_counter()\n",
        "  tiempo_promedio = (t1 - t0) / n\n",
        "  return np.mean(thetas), np.var(thetas), tiempo_promedio"
      ],
      "metadata": {
        "id": "W1mjsCWhJR4C"
      },
      "execution_count": 5,
      "outputs": []
    },
    {
      "cell_type": "markdown",
      "source": [
        "En el siguiente lo que hacermos es usar ambos y sacamos el promedio es decir, es lo que hace realmente la reduccion de la varianza\n",
        "$$ \\text{Var} ( \\frac{ f(u) + f(1-u) }{2} ) < \\text{Var} (f(u)) $$"
      ],
      "metadata": {
        "id": "ZfWBQr_nKnmc"
      }
    },
    {
      "cell_type": "code",
      "source": [
        "def mc_crudo_antiteticas(N, n, func=g, a=0.0, b=1.0):\n",
        "  thetas = []\n",
        "  t0 = time.perf_counter()\n",
        "  for i in range(n):\n",
        "    suma = 0.0\n",
        "    for j in range(N):\n",
        "      u = rd.random()\n",
        "      x1 = a + u * (b - a)\n",
        "      x2 = a + (1.0 - u) * (b - a)\n",
        "      suma += ((func(x1) + func(x2)))/2 #promedio de g(u) y g(1-u)\n",
        "    theta = (b - a) * (suma / N)\n",
        "    thetas.append(theta)\n",
        "  t1 = time.perf_counter()\n",
        "  tiempo_promedio = (t1 - t0) / n\n",
        "  return np.mean(thetas), np.var(thetas), tiempo_promedio"
      ],
      "metadata": {
        "id": "EmKR7sUaKxDW"
      },
      "execution_count": 8,
      "outputs": []
    },
    {
      "cell_type": "code",
      "source": [
        "N=1000\n",
        "n=30\n",
        "\n",
        "mean_c, var_c, t_c = mc_crudo(N, n)\n",
        "mean_1u, var_1u, t_1u = mc_crudo_1u(N, n)\n",
        "mean_ant, var_ant, t_ant = mc_crudo_antiteticas(N, n)"
      ],
      "metadata": {
        "id": "g8ELcUocM9m6"
      },
      "execution_count": 9,
      "outputs": []
    },
    {
      "cell_type": "code",
      "source": [
        "print(\"Monte Carlo crudo con u:               media =\", mean_c, \" varianza =\", var_c, \" tiempo =\", t_c)\n",
        "print(\"Monte Carlo crudo con 1-u:             media =\", mean_1u, \" varianza =\", var_1u, \" tiempo =\", t_1u)\n",
        "print(\"Monte Carlo crudo con la red de var:   media =\", mean_ant, \" varianza =\", var_ant, \" tiempo =\", t_ant)"
      ],
      "metadata": {
        "colab": {
          "base_uri": "https://localhost:8080/"
        },
        "id": "GaKWB8NuNesQ",
        "outputId": "fcc24f64-ff1a-4fb8-ceaf-c3cdc8189fa3"
      },
      "execution_count": 10,
      "outputs": [
        {
          "output_type": "stream",
          "name": "stdout",
          "text": [
            "Monte Carlo crudo con u:               media = 0.6308860959754247  varianza = 4.3490910294762026e-05  tiempo = 0.002342864133333933\n",
            "Monte Carlo crudo con 1-u:             media = 0.6311539641713417  varianza = 2.92588272550546e-05  tiempo = 0.002716570466676179\n",
            "Monte Carlo crudo con la red de var:   media = 0.6293376970436785  varianza = 2.5087377564140458e-06  tiempo = 0.004143674466664985\n"
          ]
        }
      ]
    },
    {
      "cell_type": "markdown",
      "source": [
        "Para ver en cuanto se redujo la varianza ocupamos lo siguiente\n",
        "$$ \\text{Reduccion} = \\frac{\\text{Varianza Original - Varianza Nueva}}{\\text{Varianza Original}} * 100 $$"
      ],
      "metadata": {
        "id": "0bLP1CPxN1gl"
      }
    },
    {
      "cell_type": "code",
      "source": [
        "reduccion=((var_c-var_ant)/var_c)*100\n",
        "print(\"Reduccion de la varianza: \", reduccion, \"%\")"
      ],
      "metadata": {
        "colab": {
          "base_uri": "https://localhost:8080/"
        },
        "id": "vqfwZpkINytA",
        "outputId": "18ecabde-b4b5-443e-90f0-01c14f0b2b44"
      },
      "execution_count": 12,
      "outputs": [
        {
          "output_type": "stream",
          "name": "stdout",
          "text": [
            "Reduccion de la varianza:  94.23158140537657 %\n"
          ]
        }
      ]
    },
    {
      "cell_type": "markdown",
      "source": [
        "Ahora, para el método de **Monte Carlo acierto y error** podemos hacerlo con antiteticas con pares, es decir $ (u,v) $ y $ (1-u, 1-v) $  \n",
        "\n",
        "Esto funciona porque los dos indicaadores estan negativamente correlacionados\n",
        "$$ \\text{Var}(\\tilde{I}) = \\frac{ \\text{Var}(\\tilde{Z}) }{ N/2 } = \\frac{1}{N/2} \\cdot \\frac{1}{4} [ 2 \\text{Var}(Z) + 2 \\text{Cov}(Z_1,Z_2) ] $$\n",
        "Si $ \\text{Cov}(Z_1,Z_2) < 0 $, entonces\n",
        "\n",
        "$$Var(\\tilde{I})<Var(\\hat{I})$$\n",
        "\n",
        "donde $ \\tilde{I} = \\frac{1}{N/2} \\sum_{k=1}^{N/2} \\tilde{Z}_k, \\hat{I} = \\frac{1}{N} \\sum_{i=1}^{N} Z_i, \\tilde{Z} = \\frac{Z_1 + Z_2}{2} $"
      ],
      "metadata": {
        "id": "msLgkXXvOPCb"
      }
    },
    {
      "cell_type": "code",
      "source": [
        "def mc_acierto_antiteticas(N, n, func=g, a=0.0, b=1.0, c=1.0):\n",
        "  thetas = []\n",
        "  t0 = time.perf_counter()\n",
        "  for _ in range(n):  # n estimaciones\n",
        "    aciertos = 0\n",
        "    for _ in range(N // 2):  # N/2 pares antitéticos\n",
        "      u1, v1 = rd.random(), rd.random()\n",
        "      u2, v2 = 1 - u1, 1 - v1\n",
        "      x1 = a + u1 * (b - a)\n",
        "      x2 = a + u2 * (b - a)\n",
        "      # Contamos los aciertos para ambos pares\n",
        "      aciertos += int(v1 <= func(x1) / c)\n",
        "      aciertos += int(v2 <= func(x2) / c)\n",
        "    theta = (b - a) * c * (aciertos / N)\n",
        "    thetas.append(theta)\n",
        "  t1 = time.perf_counter()\n",
        "  tiempo_promedio = (t1 - t0) / n\n",
        "  return np.mean(thetas), np.var(thetas), tiempo_promedio"
      ],
      "metadata": {
        "id": "bxXddIpZODM0"
      },
      "execution_count": 13,
      "outputs": []
    },
    {
      "cell_type": "markdown",
      "source": [
        "El codigo inicial era el siguiente:"
      ],
      "metadata": {
        "id": "fqt2q_PYPPF4"
      }
    },
    {
      "cell_type": "code",
      "source": [
        "def mc_acierto(N, n, func=g, a=0.0, b=1.0, c=1.0):\n",
        "  thetas = []\n",
        "  t0 = time.perf_counter()\n",
        "  for _ in range(n):              # n repeticiones\n",
        "    Na = 0\n",
        "    for _ in range(N):          # N puntos en cada corrida\n",
        "      x = rd.random()*(b-a)+a # x uniformemente en [a,b]\n",
        "      y = rd.random()*c       # y uniformemente en [0,c]\n",
        "      if y <= func(x):\n",
        "        Na += 1\n",
        "    theta1 = c*(b-a)*(Na/N)     # Valor de \\theta_1\n",
        "    thetas.append(theta1)\n",
        "  t1 = time.perf_counter()\n",
        "  tiempo_promedio = (t1 - t0) / n\n",
        "  return np.mean(thetas), np.var(thetas), tiempo_promedio"
      ],
      "metadata": {
        "id": "waKhpm1zPTXk"
      },
      "execution_count": 16,
      "outputs": []
    },
    {
      "cell_type": "code",
      "source": [
        "N=1000\n",
        "n=30\n",
        "\n",
        "mean_acierto, var_acierto, t_acierto = mc_acierto(N,n)\n",
        "mean_red, var_red, t_red = mc_acierto_antiteticas(N,n)"
      ],
      "metadata": {
        "id": "6xIuazhLPqz3"
      },
      "execution_count": 17,
      "outputs": []
    },
    {
      "cell_type": "code",
      "source": [
        "print(\"Monte Carlo acierto y error:                 media\", mean_acierto, \"varianza\", var_acierto, \"tiempo\", t_acierto)\n",
        "print(\"Monte Carlo acierto y error con antiteticas: media\", mean_red, \"varianza\", var_red, \"tiempo\", t_red)"
      ],
      "metadata": {
        "colab": {
          "base_uri": "https://localhost:8080/"
        },
        "id": "lcE33nrYQVmQ",
        "outputId": "c0bc88f9-76ce-4b0c-c47a-20943e4b64f1"
      },
      "execution_count": 20,
      "outputs": [
        {
          "output_type": "stream",
          "name": "stdout",
          "text": [
            "Monte Carlo acierto y error:                 media 0.6302333333333333 varianza 0.00018711222222222252 tiempo 0.002335390099991249\n",
            "Monte Carlo acierto y error con antiteticas: media 0.6298333333333334 varianza 9.087222222222239e-05 tiempo 0.0026683792999998937\n"
          ]
        }
      ]
    },
    {
      "cell_type": "markdown",
      "source": [
        "Para ver en cuanto se redujo la varianza ocupamos lo siguiente\n",
        "$$ \\text{Reduccion} = \\frac{\\text{Varianza Original - Varianza Nueva}}{\\text{Varianza Original}} * 100 $$"
      ],
      "metadata": {
        "id": "pYB5be0xQy7C"
      }
    },
    {
      "cell_type": "code",
      "source": [
        "reduccion=((var_acierto-var_red)/var_acierto)*100\n",
        "print(\"Reduccion de la varianza: \", reduccion, \"%\")"
      ],
      "metadata": {
        "colab": {
          "base_uri": "https://localhost:8080/"
        },
        "id": "5Lau5r-kQ0CS",
        "outputId": "fdbcbc2e-1aab-4f31-d894-59c2279c8959"
      },
      "execution_count": 22,
      "outputs": [
        {
          "output_type": "stream",
          "name": "stdout",
          "text": [
            "Reduccion de la varianza:  51.43437390514307 %\n"
          ]
        }
      ]
    }
  ]
}