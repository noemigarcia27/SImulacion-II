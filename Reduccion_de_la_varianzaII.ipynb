{
  "nbformat": 4,
  "nbformat_minor": 0,
  "metadata": {
    "colab": {
      "provenance": [],
      "authorship_tag": "ABX9TyMfUksWnfg2oqt120qbCf3y",
      "include_colab_link": true
    },
    "kernelspec": {
      "name": "python3",
      "display_name": "Python 3"
    },
    "language_info": {
      "name": "python"
    }
  },
  "cells": [
    {
      "cell_type": "markdown",
      "metadata": {
        "id": "view-in-github",
        "colab_type": "text"
      },
      "source": [
        "<a href=\"https://colab.research.google.com/github/noemigarcia27/SImulacion-II/blob/main/Reduccion_de_la_varianzaII.ipynb\" target=\"_parent\"><img src=\"https://colab.research.google.com/assets/colab-badge.svg\" alt=\"Open In Colab\"/></a>"
      ]
    },
    {
      "cell_type": "markdown",
      "source": [
        "# **Reducción de la varianza**\n",
        "## Variables de control\n",
        "\n",
        "Queremos estimar el parámetro $ \\theta $ mediante la variable X y contamos con otra variable Y, con $ E[Y] = μ_y $ y usamos\n",
        "\n",
        "$$ Z = X + c(Y - μ_y ), \\quad \\text{donde c es cierta constante} $$\n",
        "\n",
        "Sabemos que $ E[Z] = E[X] $ y tenemos que $ Var(Z) = Var(X) + 2c Cov(X,Y) + c^2 Var(Y) $\n"
      ],
      "metadata": {
        "id": "Hu6mc1wjM2D1"
      }
    },
    {
      "cell_type": "code",
      "execution_count": 1,
      "metadata": {
        "id": "lSkmdjYYMivl"
      },
      "outputs": [],
      "source": [
        "import numpy as np\n",
        "import matplotlib.pyplot as plt\n",
        "import random as rd\n",
        "import time"
      ]
    },
    {
      "cell_type": "markdown",
      "source": [
        "En el ejemplo tenemos que estimar\n",
        "$$ I = \\int_{0}^{1} \\frac{1}{1+x^2} dx $$"
      ],
      "metadata": {
        "id": "iJCJWrtlPKR4"
      }
    },
    {
      "cell_type": "code",
      "source": [
        "def g(x):\n",
        "  return 1 / (1+x**2)"
      ],
      "metadata": {
        "id": "W7CTSaZsPIYD"
      },
      "execution_count": 2,
      "outputs": []
    },
    {
      "cell_type": "markdown",
      "source": [
        "Uttilizamos el Monte Carlo crudo y la variable\n",
        "\n",
        "$$ X = \\frac{ \\frac{1}{1+u_1^2} + \\frac{1}{1+u_2^2} + ⋯ + \\frac{1}{1+u_n^2} }{n}, \\quad u_{i} \\thicksim U(0,1), \\quad i=1,2,...,n $$\n",
        "\n",
        "Podemos usar como variable de control\n",
        "\n",
        "$$ Y = \\frac{U_1 + U_2 + ⋯ + U_n}{n} $$\n",
        "\n",
        "entonces\n",
        "\n",
        "$$ Cov(X,Y) = \\frac{1}{N^2} \\sum_{i=1}^{N} Cov(g(U_i), U_i) \\quad → \\quad Cov(X,Y) = \\frac{1}{N} Cov(g(U), U) \\quad U \\thicksim U(0,1) $$\n",
        "\n",
        "Lo que vamos a tener despues de hacer los calculos es que\n",
        "\n",
        "$$ Cov(X,Y) = \\frac{ \\frac{log(2)}{2} - \\frac{\\pi}{8} }{n}  $$\n",
        "\n",
        "y asi,\n",
        "\n",
        "$$ c = -12 (\\frac{log(2)}{2} - \\frac{\\pi}{8}) $$"
      ],
      "metadata": {
        "id": "nQ2eC9DhR0WS"
      }
    },
    {
      "cell_type": "code",
      "source": [
        "def mc_crudo(N, n, func=g, a=0.0, b=1.0):\n",
        "  thetas = []\n",
        "  t0 = time.perf_counter()\n",
        "  for _ in range(n):\n",
        "      suma = 0.0\n",
        "      for _ in range(N):\n",
        "        u = rd.random()\n",
        "        x = a + u * (b - a)\n",
        "        suma += func(x)\n",
        "      theta2 = (b - a) / N * suma\n",
        "      thetas.append(theta2)\n",
        "  t1 = time.perf_counter()\n",
        "  tiempo_promedio = (t1 - t0) / n\n",
        "  return np.mean(thetas), np.var(thetas), tiempo_promedio"
      ],
      "metadata": {
        "id": "ebhAw7X2RTBr"
      },
      "execution_count": null,
      "outputs": []
    },
    {
      "cell_type": "code",
      "source": [],
      "metadata": {
        "id": "_W4gpQx4S_hU"
      },
      "execution_count": null,
      "outputs": []
    }
  ]
}