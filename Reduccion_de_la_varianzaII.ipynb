{
  "nbformat": 4,
  "nbformat_minor": 0,
  "metadata": {
    "colab": {
      "provenance": [],
      "authorship_tag": "ABX9TyPK9fB9+JWhTvm+vwNd/qbf",
      "include_colab_link": true
    },
    "kernelspec": {
      "name": "python3",
      "display_name": "Python 3"
    },
    "language_info": {
      "name": "python"
    }
  },
  "cells": [
    {
      "cell_type": "markdown",
      "metadata": {
        "id": "view-in-github",
        "colab_type": "text"
      },
      "source": [
        "<a href=\"https://colab.research.google.com/github/noemigarcia27/SImulacion-II/blob/main/Reduccion_de_la_varianzaII.ipynb\" target=\"_parent\"><img src=\"https://colab.research.google.com/assets/colab-badge.svg\" alt=\"Open In Colab\"/></a>"
      ]
    },
    {
      "cell_type": "markdown",
      "source": [
        "# **Reducción de la varianza**\n",
        "## Variables de control\n",
        "\n",
        "Queremos estimar el parámetro $ \\theta $ mediante la variable X y contamos con otra variable Y, con $ E[Y] = μ_y $ y usamos\n",
        "\n",
        "$$ Z = X + c(Y - μ_y ), \\quad \\text{donde c es cierta constante} $$\n",
        "\n",
        "Sabemos que $ E[Z] = E[X] $ y tenemos que $ Var(Z) = Var(X) + 2c Cov(X,Y) + c^2 Var(Y) $\n"
      ],
      "metadata": {
        "id": "Hu6mc1wjM2D1"
      }
    },
    {
      "cell_type": "code",
      "execution_count": 3,
      "metadata": {
        "id": "lSkmdjYYMivl"
      },
      "outputs": [],
      "source": [
        "import numpy as np\n",
        "import matplotlib.pyplot as plt\n",
        "import random as rd\n",
        "import time"
      ]
    },
    {
      "cell_type": "markdown",
      "source": [
        "En el ejemplo tenemos que estimar\n",
        "$$ I = \\int_{0}^{1} \\frac{1}{1+x^2} dx $$"
      ],
      "metadata": {
        "id": "iJCJWrtlPKR4"
      }
    },
    {
      "cell_type": "code",
      "source": [
        "def g(x):\n",
        "  return 1 / (1+x**2)"
      ],
      "metadata": {
        "id": "W7CTSaZsPIYD"
      },
      "execution_count": 4,
      "outputs": []
    },
    {
      "cell_type": "markdown",
      "source": [
        "Uttilizamos el Monte Carlo crudo y la variable\n",
        "\n",
        "$$ X = \\frac{ \\frac{1}{1+u_1^2} + \\frac{1}{1+u_2^2} + ⋯ + \\frac{1}{1+u_n^2} }{n}, \\quad u_{i} \\thicksim U(0,1), \\quad i=1,2,...,n $$\n",
        "\n",
        "Podemos usar como variable de control\n",
        "\n",
        "$$ Y = \\frac{U_1 + U_2 + ⋯ + U_n}{n} $$\n",
        "\n",
        "entonces\n",
        "\n",
        "$$ Cov(X,Y) = \\frac{1}{N^2} \\sum_{i=1}^{N} Cov(g(U_i), U_i) \\quad → \\quad Cov(X,Y) = \\frac{1}{N} Cov(g(U), U) \\quad U \\thicksim U(0,1) $$\n",
        "\\\\\n",
        "\n",
        "Primero tenemos nuestro codigo del metodo de Monte Carlo crudo (el que ya hemos ocupado anteriormente)"
      ],
      "metadata": {
        "id": "nQ2eC9DhR0WS"
      }
    },
    {
      "cell_type": "code",
      "source": [
        "def mc_crudo(N, n, func=g, a=0.0, b=1.0):\n",
        "  thetas = []\n",
        "  t0 = time.perf_counter()\n",
        "  for _ in range(n):\n",
        "      suma = 0.0\n",
        "      for _ in range(N):\n",
        "        u = rd.random()\n",
        "        x = a + u * (b - a)\n",
        "        suma += func(x)\n",
        "      theta2 = (b - a) / N * suma\n",
        "      thetas.append(theta2)\n",
        "  t1 = time.perf_counter()\n",
        "  tiempo_promedio = (t1 - t0) / n\n",
        "  return np.mean(thetas), np.var(thetas), tiempo_promedio"
      ],
      "metadata": {
        "id": "ebhAw7X2RTBr"
      },
      "execution_count": 11,
      "outputs": []
    },
    {
      "cell_type": "markdown",
      "source": [
        "De la parte teorica, lo que vamos a tener despues de hacer los calculos es que\n",
        "\n",
        "$$ Cov(X,Y) = \\frac{ \\frac{log(2)}{2} - \\frac{\\pi}{8} }{n}  $$\n",
        "\n",
        "y asi,\n",
        "\n",
        "$$ c = -12 (\\frac{log(2)}{2} - \\frac{\\pi}{8}) $$\n"
      ],
      "metadata": {
        "id": "9u3k045RW7v0"
      }
    },
    {
      "cell_type": "code",
      "source": [
        "cov = 0.5 * np.log(2) - np.pi / 8 # Cálculo teórico de Cov(f(U),U)\n",
        "print(\"Cov(f(U), U) =\", cov)\n",
        "\n",
        "c = -12 * cov  # Constante c\n",
        "print(\"Constante óptima c* =\", c_star)\n",
        "\n",
        "EY = 0.5 # Valor esperado de Y"
      ],
      "metadata": {
        "colab": {
          "base_uri": "https://localhost:8080/"
        },
        "id": "_W4gpQx4S_hU",
        "outputId": "aab4fc1b-7553-4330-88fa-0be338ce845b"
      },
      "execution_count": 7,
      "outputs": [
        {
          "output_type": "stream",
          "name": "stdout",
          "text": [
            "Cov(f(U), U) = -0.046125491418751496\n",
            "Constante óptima c* = 0.553505897025018\n"
          ]
        }
      ]
    },
    {
      "cell_type": "markdown",
      "source": [
        "Ahora si, veamos como quedaria el método de Monte Carlo con la variable de control, usando la misma sinulacion que el método crudo pero con la Z"
      ],
      "metadata": {
        "id": "OzEJar4fXzRH"
      }
    },
    {
      "cell_type": "code",
      "source": [
        "def mc_crudo_control(N, n, func=g, a=0.0, b=1.0, c=c, EY=0.5):\n",
        "    thetas = []\n",
        "    t0 = time.perf_counter()\n",
        "    for _ in range(n):\n",
        "        suma_g = 0.0\n",
        "        suma_u = 0.0\n",
        "        for _ in range(N):\n",
        "            u = rd.random()\n",
        "            x = a + u * (b - a)\n",
        "            suma_g += func(x)\n",
        "            suma_u += u\n",
        "        X = (b - a) * (suma_g / N)     # estimador crudo\n",
        "        Y = suma_u / N                 # variable de control\n",
        "        Z = X + c * (Y - EY)           # estimador ajustado\n",
        "        thetas.append(Z)\n",
        "    t1 = time.perf_counter()\n",
        "    tiempo_promedio = (t1 - t0) / n\n",
        "    return np.mean(thetas), np.var(thetas), tiempo_promedio"
      ],
      "metadata": {
        "id": "wA2-HZHOX60c"
      },
      "execution_count": 8,
      "outputs": []
    },
    {
      "cell_type": "code",
      "source": [
        "N = 1000\n",
        "n = 200\n",
        "\n",
        "mean_X, var_X, t_X = mc_crudo(N, n)\n",
        "mean_Z, var_Z, t_Z = mc_crudo_control(N, n)"
      ],
      "metadata": {
        "id": "LfYyEoK8YTzd"
      },
      "execution_count": 12,
      "outputs": []
    },
    {
      "cell_type": "code",
      "source": [
        "print(\"Monte Carlo crudo:                                       media =\", mean_X, \" varianza =\", var_X, \" tiempo =\", t_X)\n",
        "print(\"Monte Carlo crudo con reduccion de varianza:             media =\", mean_Z, \" varianza =\", var_Z, \" tiempo =\", t_Z)"
      ],
      "metadata": {
        "colab": {
          "base_uri": "https://localhost:8080/"
        },
        "id": "J4XAJbxnYpVm",
        "outputId": "bbf1e55e-a17a-4133-9e84-98168acfc482"
      },
      "execution_count": 13,
      "outputs": [
        {
          "output_type": "stream",
          "name": "stdout",
          "text": [
            "Monte Carlo crudo:                                       media = 0.7858679151625381  varianza = 2.4335015304578412e-05  tiempo = 0.00046379009499986524\n",
            "Monte Carlo crudo con reduccion de varianza:             media = 0.7853458709530748  varianza = 3.245950693565769e-07  tiempo = 0.000522924059999923\n"
          ]
        }
      ]
    },
    {
      "cell_type": "markdown",
      "source": [
        "Para ver en cuento se redujo la varianza ocupamos lo siguiente\n",
        "\n",
        "$$ \\text{Reduccion} = \\frac{ \\text{Varianza Original} - \\text{Varianza Nueva} }{ \\text{Varianza Original} } * 100 $$"
      ],
      "metadata": {
        "id": "mBoZnBMMZIrQ"
      }
    },
    {
      "cell_type": "code",
      "source": [
        "reduccion=((var_X-var_Z)/var_X)*100\n",
        "print(\"Reduccion de la varianza: \", reduccion, \"%\")"
      ],
      "metadata": {
        "colab": {
          "base_uri": "https://localhost:8080/"
        },
        "id": "jFnERkrjZflr",
        "outputId": "618240d6-e6a2-445c-c6db-2f362ad8d0e2"
      },
      "execution_count": 15,
      "outputs": [
        {
          "output_type": "stream",
          "name": "stdout",
          "text": [
            "Reduccion de la varianza:  98.66613985940043 %\n"
          ]
        }
      ]
    },
    {
      "cell_type": "code",
      "source": [
        "Xs = []\n",
        "Zs = []\n",
        "\n",
        "for _ in range(n):\n",
        "    suma_g = 0\n",
        "    suma_u = 0\n",
        "    for _ in range(N):\n",
        "        u = rd.random()\n",
        "        suma_g += g(u)\n",
        "        suma_u += u\n",
        "    X = suma_g / N\n",
        "    Y = suma_u / N\n",
        "    Z = X + c * (Y - EY)\n",
        "    Xs.append(X)\n",
        "    Zs.append(Z)\n",
        "\n",
        "plt.figure(figsize=(8,5))\n",
        "plt.hist(Xs, bins=30, alpha=0.6, label=\"Monte Carlo crudo\")\n",
        "plt.hist(Zs, bins=30, alpha=0.6, label=\"Con variable de control\")\n",
        "plt.axvline(np.mean(Xs), color='blue', linestyle='--')\n",
        "plt.axvline(np.mean(Zs), color='orange', linestyle='--')\n",
        "plt.xlabel(\"Estimaciones\")\n",
        "plt.ylabel(\"Frecuencia\")\n",
        "plt.legend()\n",
        "plt.title(\"Comparación de dispersión: MC crudo vs. variable de control\")\n",
        "plt.show()"
      ],
      "metadata": {
        "colab": {
          "base_uri": "https://localhost:8080/",
          "height": 488
        },
        "id": "cX6qp_JxZnWt",
        "outputId": "c47eb6b5-8dea-4b01-c1db-9ac41ada0407"
      },
      "execution_count": 18,
      "outputs": [
        {
          "output_type": "display_data",
          "data": {
            "text/plain": [
              "<Figure size 800x500 with 1 Axes>"
            ],
            "image/png": "[encoded data removed]"
          },
          "metadata": {}
        }
      ]
    }
  ]
}