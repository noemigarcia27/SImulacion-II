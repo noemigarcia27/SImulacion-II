{
  "nbformat": 4,
  "nbformat_minor": 0,
  "metadata": {
    "colab": {
      "provenance": [],
      "authorship_tag": "ABX9TyP8mSgjiFNs0AYtSX3eoa8z",
      "include_colab_link": true
    },
    "kernelspec": {
      "name": "python3",
      "display_name": "Python 3"
    },
    "language_info": {
      "name": "python"
    }
  },
  "cells": [
    {
      "cell_type": "markdown",
      "metadata": {
        "id": "view-in-github",
        "colab_type": "text"
      },
      "source": [
        "<a href=\"https://colab.research.google.com/github/noemigarcia27/SImulacion-II/blob/main/Eficiencia_de_metodos.ipynb\" target=\"_parent\"><img src=\"https://colab.research.google.com/assets/colab-badge.svg\" alt=\"Open In Colab\"/></a>"
      ]
    },
    {
      "cell_type": "markdown",
      "source": [
        "# **Eficiencia del Método de Monte Carlo**"
      ],
      "metadata": {
        "id": "oTG19gJZMZ98"
      }
    },
    {
      "cell_type": "markdown",
      "source": [
        "Las librerias que vamos a ocupar son las siguientes"
      ],
      "metadata": {
        "id": "ZJ2t3lmDdcFy"
      }
    },
    {
      "cell_type": "code",
      "execution_count": 1,
      "metadata": {
        "id": "Is_Gfm_1Jw6Y"
      },
      "outputs": [],
      "source": [
        "import numpy as np\n",
        "import matplotlib.pyplot as plt\n",
        "import random as rd\n",
        "import time"
      ]
    },
    {
      "cell_type": "markdown",
      "source": [
        "Nuestra función para este ejercicio es:\n",
        "$$ g(x) = \\sqrt{arctan(x)} dx  $$"
      ],
      "metadata": {
        "id": "4u3ufBIldgIq"
      }
    },
    {
      "cell_type": "code",
      "source": [
        "def g(x):\n",
        "  return np.sqrt(np.arctan(x))"
      ],
      "metadata": {
        "id": "ah4JpLmXL4Xx"
      },
      "execution_count": 2,
      "outputs": []
    },
    {
      "cell_type": "markdown",
      "source": [
        "**Monte Carlo: acierto y error**"
      ],
      "metadata": {
        "id": "ytj52IOIMVRD"
      }
    },
    {
      "cell_type": "markdown",
      "source": [
        "Este es el codigo para una unica estimacion del método de acierto y error"
      ],
      "metadata": {
        "id": "mzJS12U8d63N"
      }
    },
    {
      "cell_type": "code",
      "source": [
        "def estimacion(N):\n",
        "  aciertos=0\n",
        "  for i in range(N):  #se generan pares de números aleatorios\n",
        "    x = rd.random()\n",
        "    y = rd.random()\n",
        "    if y <= g(x):  #ve cuales puntos quedaron debajo de la curva de la función\n",
        "      aciertos += 1 #los aciertos se van acumulando\n",
        "  I=aciertos/N  #Fórmula del estimador p^ = N_a / N\n",
        "  return I"
      ],
      "metadata": {
        "id": "ze5Mf5M8Qt_4"
      },
      "execution_count": 3,
      "outputs": []
    },
    {
      "cell_type": "code",
      "source": [
        "estimacion(1000)"
      ],
      "metadata": {
        "colab": {
          "base_uri": "https://localhost:8080/"
        },
        "id": "wQf1Y4fSUmMO",
        "outputId": "d26e7ddc-d4e3-41b5-ad13-bfffdd37815a"
      },
      "execution_count": 4,
      "outputs": [
        {
          "output_type": "execute_result",
          "data": {
            "text/plain": [
              "0.62"
            ]
          },
          "metadata": {},
          "execution_count": 4
        }
      ]
    },
    {
      "cell_type": "markdown",
      "source": [
        "Bucle para hacer el muestreo"
      ],
      "metadata": {
        "id": "xHGOVHQ8Utof"
      }
    },
    {
      "cell_type": "code",
      "source": [
        "def mc_acierto(N,n):  #n es el numero de estimaciones\n",
        "  start_time = time.perf_counter()  #empieza el contador para el tiempo en el que se tarda\n",
        "  lista=[]\n",
        "  for i in range(N):\n",
        "    E=estimacion(n)\n",
        "    lista.append(E)\n",
        "  end_time = time.perf_counter()\n",
        "  execution_time = end_time - start_time\n",
        "  return np.mean(lista), np.var(lista), execution_time"
      ],
      "metadata": {
        "id": "u7f05zNWSUKP"
      },
      "execution_count": 5,
      "outputs": []
    },
    {
      "cell_type": "markdown",
      "source": [
        "**Monte Carlo crudo**"
      ],
      "metadata": {
        "id": "QC1bsMRYOAXU"
      }
    },
    {
      "cell_type": "code",
      "source": [
        "def mc_crudo(N,n):\n",
        "  start_time = time.perf_counter()\n",
        "  resultados_c=[] #se guardan las estimaciones\n",
        "  for i in range(n): #n numero de estimaciones, comienza a hacer el bucle\n",
        "    lista_c=[]\n",
        "    for j in range(N):  #N es el tamaño de la muestra\n",
        "      u=rd.random()\n",
        "      lista_c.append(g(u))\n",
        "    resultados_c.append(lista_c)\n",
        "  end_time = time.perf_counter()\n",
        "  execution_time = end_time - start_time\n",
        "  return np.mean(lista_c), np.var(lista_c), execution_time"
      ],
      "metadata": {
        "id": "eGHuJpLgOUBW"
      },
      "execution_count": 6,
      "outputs": []
    },
    {
      "cell_type": "markdown",
      "source": [
        "Para revisar que método es más eficiente ocupamos la fórmula\n",
        "$$ \\epsilon = \\frac{t_1 \\text{Var}(\\theta_1)}{t_2 \\text{Var}(\\theta_2)} $$\n"
      ],
      "metadata": {
        "id": "8irMg7dXQcSZ"
      }
    },
    {
      "cell_type": "code",
      "source": [
        "mean1, var1, t1 = mc_acierto(1000,100)\n",
        "mean2, var2, t2 = mc_crudo(1000,100)"
      ],
      "metadata": {
        "id": "b5fTGh7JWPWa"
      },
      "execution_count": 7,
      "outputs": []
    },
    {
      "cell_type": "markdown",
      "source": [
        "Si $ \\epsilon = \\frac{t_1 \\text{Var}(\\theta_1)}{t_2 \\text{Var}(\\theta_2)} < 1 $, entones el primer método es más eficiente, de lo contrario el segundo será más eficiente"
      ],
      "metadata": {
        "id": "nDdhEALIbr_3"
      }
    },
    {
      "cell_type": "code",
      "source": [
        "E = (t2 * var2) / (t1 * var1)"
      ],
      "metadata": {
        "id": "k5t0acuMaOK2"
      },
      "execution_count": 18,
      "outputs": []
    },
    {
      "cell_type": "code",
      "source": [
        "print(\"Método Acierto y Error:  media:\", mean1, \" varianza:\", var1, \" tiempo:\", t1)\n",
        "print(\"Método Crudo:            media:\", mean2, \" varianza:\", var2, \" tiempo:\", t2)\n",
        "print(\"Eficiencia (E):\", E)"
      ],
      "metadata": {
        "colab": {
          "base_uri": "https://localhost:8080/"
        },
        "id": "HtzW-R7NbDdW",
        "outputId": "5fd08d10-a9a2-460b-b5e7-dd5678d0755e"
      },
      "execution_count": 19,
      "outputs": [
        {
          "output_type": "stream",
          "name": "stdout",
          "text": [
            "Método Acierto y Error:  media: 0.63068  varianza: 0.0024881376  tiempo: 0.214054363999999\n",
            "Método Crudo:            media: 0.6303713008904697  varianza: 0.04124066490442632  tiempo: 0.2100005429999996\n",
            "Eficiencia (E): 16.26101295108645\n"
          ]
        }
      ]
    },
    {
      "cell_type": "markdown",
      "source": [
        "####Reducción de la varianza para el método de Monte Carlo crudo\n",
        "Vamos a hacer la reducción con el método de variables antipéticas, usando el teorema\n",
        "$$ \\text{Var} ( \\frac{ X_1 + X_2 }{2} ) = \\frac{1}{4} [ \\text{Var} (X_1) + \\text{Var} (X_2) + 2 \\text{Cov} ( X_1 + X_2 )] $$"
      ],
      "metadata": {
        "id": "uNZRSGVKf-Kt"
      }
    },
    {
      "cell_type": "markdown",
      "source": [
        "En el siguiente codigo en vez de usar muestras u (como en el Método MC crudo) se utiliza 1-u"
      ],
      "metadata": {
        "id": "0d5zlxLKiLhE"
      }
    },
    {
      "cell_type": "code",
      "source": [
        "def mc_crudo_g_1u(N, n):\n",
        "  start_time=time.perf_counter()\n",
        "  resultados_c=[]\n",
        "  for i in range(n): # Genera N muestras pero evalúa en (1-u) en lugar de u\n",
        "    lista_c=[]\n",
        "    for j in range(N):\n",
        "      u=rd.random()\n",
        "      lista_c.append(g(1-u))\n",
        "    resultados_c.append(lista_c)\n",
        "  end_time=time.perf_counter()\n",
        "  execution_time=end_time-start_time\n",
        "  return np.mean(lista_c), np.var(lista_c), execution_time"
      ],
      "metadata": {
        "id": "YaT9iQ3OhPMN"
      },
      "execution_count": 10,
      "outputs": []
    },
    {
      "cell_type": "markdown",
      "source": [
        "En el siguiente lo que hacermos es usar ambos y sacamos el promedio es decir, es lo que hace realmente la reduccion de la varianza\n",
        "$$ \\text{Var} ( \\frac{ f(u) + f(1-u) }{2} ) < \\text{Var} (f(u)) $$"
      ],
      "metadata": {
        "id": "J53rmQ0LitTb"
      }
    },
    {
      "cell_type": "code",
      "source": [
        "def mc_crudo_reduccion_var(N,n):\n",
        "  start_time=time.perf_counter()\n",
        "  resultados_c=[]\n",
        "  for i in range(n):\n",
        "    lista_c=[]\n",
        "    for j in range(N):\n",
        "      u=rd.random()\n",
        "      lista_c.append((g(u) + g(1-u))/2.0) #promedio g(u) y g(1-u)\n",
        "    resultados_c.append(lista_c)\n",
        "  end_time=time.perf_counter()\n",
        "  execution_time=end_time-start_time\n",
        "  return np.mean(lista_c), np.var(lista_c), execution_time"
      ],
      "metadata": {
        "id": "ZQWPkOGBfIEF"
      },
      "execution_count": 11,
      "outputs": []
    },
    {
      "cell_type": "code",
      "source": [
        "mean_c, var_c, t_c = mc_crudo(1000, 30)\n",
        "mean_as, var_as, t_as = mc_crudo_g_1u(1000, 30)\n",
        "mean_ac, var_ac, t_ac = mc_crudo_reduccion_var(1000, 30)"
      ],
      "metadata": {
        "id": "BhvGCkyqflty"
      },
      "execution_count": 12,
      "outputs": []
    },
    {
      "cell_type": "code",
      "source": [
        "print(\"Monte Carlo crudo con u:               media =\", mean_c, \" varianza =\", var_c, \" tiempo =\", t_c)\n",
        "print(\"Monte Carlo crudo con 1-u:             media =\", mean_as, \" varianza =\", var_as, \" tiempo =\", t_as)\n",
        "print(\"Monte Carlo crudo con la red de var:   media =\", mean_ac, \" varianza =\", var_ac, \" tiempo =\", t_ac)"
      ],
      "metadata": {
        "id": "UtMBc1_mhsIV",
        "outputId": "0abf5a2e-d5c5-4ab0-d3c7-235d3fc89c37",
        "colab": {
          "base_uri": "https://localhost:8080/"
        }
      },
      "execution_count": 13,
      "outputs": [
        {
          "output_type": "stream",
          "name": "stdout",
          "text": [
            "Monte Carlo crudo con u:               media = 0.619784854927612  varianza = 0.04257303271815501  tiempo = 0.06430167799999964\n",
            "Monte Carlo crudo con 1-u:             media = 0.6306444677992344  varianza = 0.04114749989383402  tiempo = 0.08085917300000034\n",
            "Monte Carlo crudo con la red de var:   media = 0.6353371023010964  varianza = 0.0023563313487720344  tiempo = 0.21247464500000035\n"
          ]
        }
      ]
    },
    {
      "cell_type": "markdown",
      "source": [
        "Para ver en cuanto se redujo la varianza ocupamos lo siguiente\n",
        "$$ \\text{Reduccion} = \\frac{\\text{Varianza Original - Varianza Nueva}}{\\text{Varianza Original}} * 100 $$"
      ],
      "metadata": {
        "id": "Fdq9y-Rfs_Jn"
      }
    },
    {
      "cell_type": "code",
      "source": [
        "reduccion=((var_c-var_ac)/var_c)*100"
      ],
      "metadata": {
        "id": "JPEf6qaVtrQG"
      },
      "execution_count": 20,
      "outputs": []
    },
    {
      "cell_type": "code",
      "source": [
        "reduccion"
      ],
      "metadata": {
        "id": "1HgDT-RNt_t5",
        "outputId": "ded4a186-f444-462c-f418-9c3e2885e68e",
        "colab": {
          "base_uri": "https://localhost:8080/"
        }
      },
      "execution_count": 21,
      "outputs": [
        {
          "output_type": "execute_result",
          "data": {
            "text/plain": [
              "np.float64(94.46520203441557)"
            ]
          },
          "metadata": {},
          "execution_count": 21
        }
      ]
    },
    {
      "cell_type": "markdown",
      "source": [
        "###Reduccion de varianza para Método acierto y error\n",
        "Podemos hacerlo con antiteticas con pares, es decir $ (u,v) $ y $ (1-u, 1-v) $"
      ],
      "metadata": {
        "id": "-e-o7eXbkQOv"
      }
    },
    {
      "cell_type": "code",
      "source": [
        "def mc_acierto_reduccion_var(N, n): #n numero de estimaciones\n",
        "    start_time=time.perf_counter()\n",
        "    resultados=[]\n",
        "    for i in range(n):  # n\n",
        "        aciertos=0\n",
        "        for j in range(N // 2):  # usamos N/2 porque son pares\n",
        "            u1, v1 = rd.random(), rd.random()\n",
        "            u2, v2 = 1 - u1, 1 - v1\n",
        "            aciertos += int(v1 <= g(u1))  #incrementa aciertos\n",
        "            aciertos += int(v2 <= g(u2))\n",
        "        I = aciertos / N\n",
        "        resultados.append(I)\n",
        "    end_time = time.perf_counter()\n",
        "    execution_time = (end_time - start_time) / n\n",
        "    return np.mean(resultados), np.var(resultados), execution_time"
      ],
      "metadata": {
        "id": "XdhQlILhhvHl"
      },
      "execution_count": 14,
      "outputs": []
    },
    {
      "cell_type": "code",
      "source": [
        "mean, var, t = mc_acierto_reduccion_var(1000, 30)"
      ],
      "metadata": {
        "id": "56yp1V34l2Jy"
      },
      "execution_count": 15,
      "outputs": []
    },
    {
      "cell_type": "code",
      "source": [
        "print(\"Método Acierto y Error:                  media:\", mean1, \" varianza:\", var1, \" tiempo:\", t1)\n",
        "print(\"Método acierto y error con red de var:   media =\", mean, \" varianza =\", var, \" tiempo =\", t)"
      ],
      "metadata": {
        "id": "r9NCta2cl8db",
        "outputId": "136d3778-128d-4550-970c-cd893d9338fc",
        "colab": {
          "base_uri": "https://localhost:8080/"
        }
      },
      "execution_count": 16,
      "outputs": [
        {
          "output_type": "stream",
          "name": "stdout",
          "text": [
            "Método Acierto y Error:                  media: 0.63068  varianza: 0.0024881376  tiempo: 0.214054363999999\n",
            "Método acierto y error con red de var:   media = 0.6283333333333333  varianza = 0.0001478222222222225  tiempo = 0.005339891299999996\n"
          ]
        }
      ]
    }
  ]
}