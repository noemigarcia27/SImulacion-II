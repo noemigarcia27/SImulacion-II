{
  "nbformat": 4,
  "nbformat_minor": 0,
  "metadata": {
    "colab": {
      "provenance": [],
      "authorship_tag": "ABX9TyOQOzJpYF71tp0BjFDBk8OF",
      "include_colab_link": true
    },
    "kernelspec": {
      "name": "python3",
      "display_name": "Python 3"
    },
    "language_info": {
      "name": "python"
    }
  },
  "cells": [
    {
      "cell_type": "markdown",
      "metadata": {
        "id": "view-in-github",
        "colab_type": "text"
      },
      "source": [
        "<a href=\"https://colab.research.google.com/github/noemigarcia27/SImulacion-II/blob/main/Eficiencia_de_metodos.ipynb\" target=\"_parent\"><img src=\"https://colab.research.google.com/assets/colab-badge.svg\" alt=\"Open In Colab\"/></a>"
      ]
    },
    {
      "cell_type": "markdown",
      "source": [
        "# **Eficiencia del Método de Monte Carlo**"
      ],
      "metadata": {
        "id": "oTG19gJZMZ98"
      }
    },
    {
      "cell_type": "code",
      "execution_count": 41,
      "metadata": {
        "id": "Is_Gfm_1Jw6Y"
      },
      "outputs": [],
      "source": [
        "import numpy as np\n",
        "import matplotlib.pyplot as plt\n",
        "import random as rd\n",
        "import time"
      ]
    },
    {
      "cell_type": "code",
      "source": [
        "def g(x):\n",
        "  return np.sqrt(np.arctan(x))"
      ],
      "metadata": {
        "id": "ah4JpLmXL4Xx"
      },
      "execution_count": 42,
      "outputs": []
    },
    {
      "cell_type": "markdown",
      "source": [
        "**Monte Carlo: acierto y error**"
      ],
      "metadata": {
        "id": "ytj52IOIMVRD"
      }
    },
    {
      "cell_type": "code",
      "source": [
        "def estimacion(N):\n",
        "  aciertos=0\n",
        "  for i in range(N):\n",
        "    x = rd.random()\n",
        "    y = rd.random()\n",
        "    if y <= g(x):\n",
        "      aciertos += 1\n",
        "  I=aciertos/N\n",
        "  return I"
      ],
      "metadata": {
        "id": "ze5Mf5M8Qt_4"
      },
      "execution_count": 43,
      "outputs": []
    },
    {
      "cell_type": "code",
      "source": [
        "estimacion(1000)"
      ],
      "metadata": {
        "colab": {
          "base_uri": "https://localhost:8080/"
        },
        "id": "wQf1Y4fSUmMO",
        "outputId": "f2cfdd74-0220-461c-e259-26cb51ca37db"
      },
      "execution_count": 44,
      "outputs": [
        {
          "output_type": "execute_result",
          "data": {
            "text/plain": [
              "0.644"
            ]
          },
          "metadata": {},
          "execution_count": 44
        }
      ]
    },
    {
      "cell_type": "markdown",
      "source": [
        "Bucle para hacer el muestreo"
      ],
      "metadata": {
        "id": "xHGOVHQ8Utof"
      }
    },
    {
      "cell_type": "code",
      "source": [
        "def mc_acierto(N,n):\n",
        "  start_time = time.perf_counter()\n",
        "  lista=[]\n",
        "  for i in range(N):\n",
        "    E=estimacion(n)\n",
        "    lista.append(E)\n",
        "  end_time = time.perf_counter()\n",
        "  execution_time = end_time - start_time\n",
        "  return np.mean(lista), np.var(lista), execution_time"
      ],
      "metadata": {
        "id": "u7f05zNWSUKP"
      },
      "execution_count": 45,
      "outputs": []
    },
    {
      "cell_type": "markdown",
      "source": [
        "**Monte Carlo crudo**"
      ],
      "metadata": {
        "id": "QC1bsMRYOAXU"
      }
    },
    {
      "cell_type": "code",
      "source": [
        "def mc_crudo(N,n):\n",
        "  start_time = time.perf_counter()\n",
        "  resultados_c=[]\n",
        "  for i in range(n):\n",
        "    lista_c=[]\n",
        "    for j in range(N):\n",
        "      u=rd.random()\n",
        "      lista_c.append(g(u))\n",
        "    resultados_c.append(lista_c)\n",
        "  end_time = time.perf_counter()\n",
        "  execution_time = end_time - start_time\n",
        "  return np.mean(lista_c), np.var(lista_c), execution_time"
      ],
      "metadata": {
        "id": "eGHuJpLgOUBW"
      },
      "execution_count": 47,
      "outputs": []
    },
    {
      "cell_type": "markdown",
      "source": [
        "Para revisar que método es más eficiente ocupamos la fórmula\n",
        "$$ \\epsilon = \\frac{t_1 \\text{Var}(\\theta_1)}{t_2 \\text{Var}(\\theta_2)} $$\n"
      ],
      "metadata": {
        "id": "8irMg7dXQcSZ"
      }
    },
    {
      "cell_type": "code",
      "source": [
        "mean1, var1, t1 = mc_acierto(1000,30)\n",
        "mean2, var2, t2 = mc_crudo(1000,30)"
      ],
      "metadata": {
        "id": "b5fTGh7JWPWa"
      },
      "execution_count": 49,
      "outputs": []
    },
    {
      "cell_type": "markdown",
      "source": [
        "Si $ \\epsilon = \\frac{t_1 \\text{Var}(\\theta_1)}{t_2 \\text{Var}(\\theta_2)} < 1 $, entones el primer método es más eficiente, de lo contrario el segundo será más eficiente"
      ],
      "metadata": {
        "id": "nDdhEALIbr_3"
      }
    },
    {
      "cell_type": "code",
      "source": [
        "E = (t1 * var1) / (t2 * var2)"
      ],
      "metadata": {
        "id": "k5t0acuMaOK2"
      },
      "execution_count": 50,
      "outputs": []
    },
    {
      "cell_type": "code",
      "source": [
        "print(\"Método Acierto y Error -> media:\", mean1, \" varianza:\", var1, \" tiempo:\", t1)\n",
        "print(\"Método Crudo           -> media:\", mean2, \" varianza:\", var2, \" tiempo:\", t2)\n",
        "print(\"Eficiencia (E):\", E)"
      ],
      "metadata": {
        "colab": {
          "base_uri": "https://localhost:8080/"
        },
        "id": "HtzW-R7NbDdW",
        "outputId": "de6f232f-2963-4a14-9897-15470363f438"
      },
      "execution_count": 51,
      "outputs": [
        {
          "output_type": "stream",
          "name": "stdout",
          "text": [
            "Método Acierto y Error -> media: 0.6343333333333333  varianza: 0.007399  tiempo: 0.06410366599993722\n",
            "Método Crudo           -> media: 0.6287835665123583  varianza: 0.04457996917876126  tiempo: 0.08418873299979168\n",
            "Eficiencia (E): 0.12637528753301916\n"
          ]
        }
      ]
    }
  ]
}