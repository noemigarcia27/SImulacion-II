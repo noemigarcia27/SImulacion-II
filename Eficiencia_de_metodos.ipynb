{
  "nbformat": 4,
  "nbformat_minor": 0,
  "metadata": {
    "colab": {
      "provenance": [],
      "authorship_tag": "ABX9TyOCd2vSs4geiyRvpwWwstxK",
      "include_colab_link": true
    },
    "kernelspec": {
      "name": "python3",
      "display_name": "Python 3"
    },
    "language_info": {
      "name": "python"
    }
  },
  "cells": [
    {
      "cell_type": "markdown",
      "metadata": {
        "id": "view-in-github",
        "colab_type": "text"
      },
      "source": [
        "<a href=\"https://colab.research.google.com/github/noemigarcia27/SImulacion-II/blob/main/Eficiencia_de_metodos.ipynb\" target=\"_parent\"><img src=\"https://colab.research.google.com/assets/colab-badge.svg\" alt=\"Open In Colab\"/></a>"
      ]
    },
    {
      "cell_type": "markdown",
      "source": [
        "# **Eficiencia del Método de Monte Carlo**"
      ],
      "metadata": {
        "id": "oTG19gJZMZ98"
      }
    },
    {
      "cell_type": "markdown",
      "source": [
        "Las librerias que vamos a ocupar son las siguientes"
      ],
      "metadata": {
        "id": "ZJ2t3lmDdcFy"
      }
    },
    {
      "cell_type": "code",
      "execution_count": 2,
      "metadata": {
        "id": "Is_Gfm_1Jw6Y"
      },
      "outputs": [],
      "source": [
        "import numpy as np\n",
        "import matplotlib.pyplot as plt\n",
        "import random as rd\n",
        "import time"
      ]
    },
    {
      "cell_type": "markdown",
      "source": [
        "Nuestra función para este ejercicio es:\n",
        "$$ g(x) = \\sqrt{arctan(x)} dx  $$"
      ],
      "metadata": {
        "id": "4u3ufBIldgIq"
      }
    },
    {
      "cell_type": "code",
      "source": [
        "def g(x):\n",
        "  return np.sqrt(np.arctan(x))"
      ],
      "metadata": {
        "id": "ah4JpLmXL4Xx"
      },
      "execution_count": 3,
      "outputs": []
    },
    {
      "cell_type": "markdown",
      "source": [
        "**Monte Carlo: acierto y error**"
      ],
      "metadata": {
        "id": "ytj52IOIMVRD"
      }
    },
    {
      "cell_type": "markdown",
      "source": [
        "Este es el codigo para una unica estimacion del método de acierto y error"
      ],
      "metadata": {
        "id": "mzJS12U8d63N"
      }
    },
    {
      "cell_type": "code",
      "source": [
        "def estimacion(N):\n",
        "  aciertos=0\n",
        "  for i in range(N):  #se generan pares de números aleatorios\n",
        "    x = rd.random()\n",
        "    y = rd.random()\n",
        "    if y <= g(x):  #ve cuales puntos quedaron debajo de la curva de la función\n",
        "      aciertos += 1 #los aciertos se van acumulando\n",
        "  I=aciertos/N  #Fórmula del estimador p^ = N_a / N\n",
        "  return I"
      ],
      "metadata": {
        "id": "ze5Mf5M8Qt_4"
      },
      "execution_count": 4,
      "outputs": []
    },
    {
      "cell_type": "code",
      "source": [
        "estimacion(1000)"
      ],
      "metadata": {
        "colab": {
          "base_uri": "https://localhost:8080/"
        },
        "id": "wQf1Y4fSUmMO",
        "outputId": "8004941e-8522-4c2e-a028-e832ff193b88"
      },
      "execution_count": 5,
      "outputs": [
        {
          "output_type": "execute_result",
          "data": {
            "text/plain": [
              "0.598"
            ]
          },
          "metadata": {},
          "execution_count": 5
        }
      ]
    },
    {
      "cell_type": "markdown",
      "source": [
        "Bucle para hacer el muestreo"
      ],
      "metadata": {
        "id": "xHGOVHQ8Utof"
      }
    },
    {
      "cell_type": "code",
      "source": [
        "def mc_acierto(N,n):  #n es el numero de estimaciones\n",
        "  start_time = time.perf_counter()  #empieza el contador para el tiempo en el que se tarda\n",
        "  lista=[]\n",
        "  for i in range(N):\n",
        "    E=estimacion(n)\n",
        "    lista.append(E)\n",
        "  end_time = time.perf_counter()\n",
        "  execution_time = end_time - start_time\n",
        "  return np.mean(lista), np.var(lista), execution_time"
      ],
      "metadata": {
        "id": "u7f05zNWSUKP"
      },
      "execution_count": 6,
      "outputs": []
    },
    {
      "cell_type": "markdown",
      "source": [
        "**Monte Carlo crudo**"
      ],
      "metadata": {
        "id": "QC1bsMRYOAXU"
      }
    },
    {
      "cell_type": "code",
      "source": [
        "def mc_crudo(N,n):\n",
        "  start_time = time.perf_counter()\n",
        "  resultados_c=[] #se guardan las estimaciones\n",
        "  for i in range(n): #n numero de estimaciones, comienza a hacer el bucle\n",
        "    lista_c=[]\n",
        "    for j in range(N):  #N es el tamaño de la muestra\n",
        "      u=rd.random()\n",
        "      lista_c.append(g(u))\n",
        "    resultados_c.append(lista_c)\n",
        "  end_time = time.perf_counter()\n",
        "  execution_time = end_time - start_time\n",
        "  return np.mean(lista_c), np.var(lista_c), execution_time"
      ],
      "metadata": {
        "id": "eGHuJpLgOUBW"
      },
      "execution_count": 7,
      "outputs": []
    },
    {
      "cell_type": "markdown",
      "source": [
        "Para revisar que método es más eficiente ocupamos la fórmula\n",
        "$$ \\epsilon = \\frac{t_1 \\text{Var}(\\theta_1)}{t_2 \\text{Var}(\\theta_2)} $$\n"
      ],
      "metadata": {
        "id": "8irMg7dXQcSZ"
      }
    },
    {
      "cell_type": "code",
      "source": [
        "mean1, var1, t1 = mc_acierto(1000,100)\n",
        "mean2, var2, t2 = mc_crudo(1000,100)"
      ],
      "metadata": {
        "id": "b5fTGh7JWPWa"
      },
      "execution_count": 8,
      "outputs": []
    },
    {
      "cell_type": "markdown",
      "source": [
        "Si $ \\epsilon = \\frac{t_1 \\text{Var}(\\theta_1)}{t_2 \\text{Var}(\\theta_2)} < 1 $, entones el primer método es más eficiente, de lo contrario el segundo será más eficiente"
      ],
      "metadata": {
        "id": "nDdhEALIbr_3"
      }
    },
    {
      "cell_type": "code",
      "source": [
        "E = (t2 * var2) / (t1 * var1)"
      ],
      "metadata": {
        "id": "k5t0acuMaOK2"
      },
      "execution_count": 9,
      "outputs": []
    },
    {
      "cell_type": "code",
      "source": [
        "print(\"Método Acierto y Error:  media:\", mean1, \" varianza:\", var1, \" tiempo:\", t1)\n",
        "print(\"Método Crudo:            media:\", mean2, \" varianza:\", var2, \" tiempo:\", t2)\n",
        "print(\"Eficiencia (E):\", E)"
      ],
      "metadata": {
        "colab": {
          "base_uri": "https://localhost:8080/"
        },
        "id": "HtzW-R7NbDdW",
        "outputId": "287afd24-39de-49dd-a6c2-48ec3c178c09"
      },
      "execution_count": 10,
      "outputs": [
        {
          "output_type": "stream",
          "name": "stdout",
          "text": [
            "Método Acierto y Error:  media: 0.63047  varianza: 0.0023644791000000005  tiempo: 0.1675755180000067\n",
            "Método Crudo:            media: 0.6187053532797698  varianza: 0.044920149576207276  tiempo: 0.16754752800000006\n",
            "Eficiencia (E): 18.994731905568862\n"
          ]
        }
      ]
    },
    {
      "cell_type": "markdown",
      "source": [
        "####Reducción de la varianza para el método de Monte Carlo crudo\n",
        "Vamos a hacer la reducción con el método de variables antipéticas, usando el teorema\n",
        "$$ \\text{Var} ( \\frac{ X_1 + X_2 }{2} ) = \\frac{1}{4} [ \\text{Var} (X_1) + \\text{Var} (X_2) + 2 \\text{Cov} ( X_1 + X_2 )] $$"
      ],
      "metadata": {
        "id": "uNZRSGVKf-Kt"
      }
    },
    {
      "cell_type": "markdown",
      "source": [
        "En el siguiente codigo en vez de usar muestras u (como en el Método MC crudo) se utiliza 1-u"
      ],
      "metadata": {
        "id": "0d5zlxLKiLhE"
      }
    },
    {
      "cell_type": "code",
      "source": [
        "def mc_crudo_g_1u(N, n):\n",
        "  start_time=time.perf_counter()\n",
        "  resultados_c=[]\n",
        "  for i in range(n): # Genera N muestras pero evalúa en (1-u) en lugar de u\n",
        "    lista_c=[]\n",
        "    for j in range(N):\n",
        "      u=rd.random()\n",
        "      lista_c.append(g(1-u))\n",
        "    resultados_c.append(lista_c)\n",
        "  end_time=time.perf_counter()\n",
        "  execution_time=end_time-start_time\n",
        "  return np.mean(lista_c), np.var(lista_c), execution_time"
      ],
      "metadata": {
        "id": "YaT9iQ3OhPMN"
      },
      "execution_count": 11,
      "outputs": []
    },
    {
      "cell_type": "markdown",
      "source": [
        "En el siguiente lo que hacermos es usar ambos y sacamos el promedio es decir, es lo que hace realmente la reduccion de la varianza\n",
        "$$ \\text{Var} ( \\frac{ f(u) + f(1-u) }{2} ) < \\text{Var} (f(u)) $$"
      ],
      "metadata": {
        "id": "J53rmQ0LitTb"
      }
    },
    {
      "cell_type": "code",
      "source": [
        "def mc_crudo_reduccion_var(N,n):\n",
        "  start_time=time.perf_counter()\n",
        "  resultados_c=[]\n",
        "  for i in range(n):\n",
        "    lista_c=[]\n",
        "    for j in range(N):\n",
        "      u=rd.random()\n",
        "      lista_c.append((g(u) + g(1-u))/2.0) #promedio g(u) y g(1-u)\n",
        "    resultados_c.append(lista_c)\n",
        "  end_time=time.perf_counter()\n",
        "  execution_time=end_time-start_time\n",
        "  return np.mean(lista_c), np.var(lista_c), execution_time"
      ],
      "metadata": {
        "id": "ZQWPkOGBfIEF"
      },
      "execution_count": 12,
      "outputs": []
    },
    {
      "cell_type": "code",
      "source": [
        "mean_c, var_c, t_c = mc_crudo(1000, 30)\n",
        "mean_as, var_as, t_as = mc_crudo_g_1u(1000, 30)\n",
        "mean_ac, var_ac, t_ac = mc_crudo_reduccion_var(1000, 30)"
      ],
      "metadata": {
        "id": "BhvGCkyqflty"
      },
      "execution_count": 13,
      "outputs": []
    },
    {
      "cell_type": "code",
      "source": [
        "print(\"Monte Carlo crudo con u:               media =\", mean_c, \" varianza =\", var_c, \" tiempo =\", t_c)\n",
        "print(\"Monte Carlo crudo con 1-u:             media =\", mean_as, \" varianza =\", var_as, \" tiempo =\", t_as)\n",
        "print(\"Monte Carlo crudo con la red de var:   media =\", mean_ac, \" varianza =\", var_ac, \" tiempo =\", t_ac)"
      ],
      "metadata": {
        "id": "UtMBc1_mhsIV",
        "outputId": "ab15056a-b04f-4480-dc30-bd3de59e6a2f",
        "colab": {
          "base_uri": "https://localhost:8080/"
        }
      },
      "execution_count": 14,
      "outputs": [
        {
          "output_type": "stream",
          "name": "stdout",
          "text": [
            "Monte Carlo crudo con u:               media = 0.6251987702365354  varianza = 0.044259280476903154  tiempo = 0.06259057799999823\n",
            "Monte Carlo crudo con 1-u:             media = 0.6340276191994  varianza = 0.041693464134693256  tiempo = 0.04992815700001074\n",
            "Monte Carlo crudo con la red de var:   media = 0.6292724954608073  varianza = 0.002698715256366613  tiempo = 0.10233163199998785\n"
          ]
        }
      ]
    },
    {
      "cell_type": "markdown",
      "source": [
        "Para ver en cuanto se redujo la varianza ocupamos lo siguiente\n",
        "$$ \\text{Reduccion} = \\frac{\\text{Varianza Original - Varianza Nueva}}{\\text{Varianza Original}} * 100 $$"
      ],
      "metadata": {
        "id": "Fdq9y-Rfs_Jn"
      }
    },
    {
      "cell_type": "code",
      "source": [
        "reduccion=((var_c-var_ac)/var_c)*100"
      ],
      "metadata": {
        "id": "JPEf6qaVtrQG"
      },
      "execution_count": 15,
      "outputs": []
    },
    {
      "cell_type": "code",
      "source": [
        "reduccion"
      ],
      "metadata": {
        "id": "1HgDT-RNt_t5",
        "outputId": "2be6b806-45b9-4b5a-d41e-188b52f72991",
        "colab": {
          "base_uri": "https://localhost:8080/"
        }
      },
      "execution_count": 16,
      "outputs": [
        {
          "output_type": "execute_result",
          "data": {
            "text/plain": [
              "np.float64(93.90248728111396)"
            ]
          },
          "metadata": {},
          "execution_count": 16
        }
      ]
    },
    {
      "cell_type": "markdown",
      "source": [
        "Vemos que se reduce la varianza en 93.90%\n",
        "\n",
        "---\n",
        "\n"
      ],
      "metadata": {
        "id": "2VIM2hHBnxmH"
      }
    },
    {
      "cell_type": "markdown",
      "source": [
        "###Reduccion de varianza para Método acierto y error\n",
        "Podemos hacerlo con antiteticas con pares, es decir $ (u,v) $ y $ (1-u, 1-v) $  \n",
        "\n",
        "Esto funciona porque los dos indicaadores estan negativamente correlacionados\n",
        "$$ \\text{Var}(\\tilde{I}) = \\frac{ \\text{Var}(\\tilde{Z}) }{ N/2 } = \\frac{1}{N/2} \\cdot \\frac{1}{4} [ 2 \\text{Var}(Z) + 2 \\text{Cov}(Z_1,Z_2) ] $$\n",
        "\n",
        "Si $ \\text{Cov}(Z_1,Z_2) < 0 $, entonces\n",
        "\n",
        "$$Var(\\tilde{I})<Var(\\hat{I})$$\n",
        "\n",
        "donde $ \\tilde{I} = \\frac{1}{N/2} \\sum_{k=1}^{N/2} \\tilde{Z}_k, \\hat{I} = \\frac{1}{N} \\sum_{i=1}^{N} Z_i, \\tilde{Z} = \\frac{Z_1 + Z_2}{2} $"
      ],
      "metadata": {
        "id": "-e-o7eXbkQOv"
      }
    },
    {
      "cell_type": "code",
      "source": [
        "def mc_acierto_reduccion_var(N, n): #n numero de estimaciones\n",
        "    start_time=time.perf_counter()\n",
        "    resultados=[]\n",
        "    for i in range(n):  # n\n",
        "        aciertos=0\n",
        "        for j in range(N // 2):  # usamos N/2 porque son pares\n",
        "            u1, v1 = rd.random(), rd.random()\n",
        "            u2, v2 = 1 - u1, 1 - v1\n",
        "            aciertos += int(v1 <= g(u1))  #incrementa aciertos\n",
        "            aciertos += int(v2 <= g(u2))\n",
        "        I = aciertos / N\n",
        "        resultados.append(I)\n",
        "    end_time = time.perf_counter()\n",
        "    execution_time = (end_time - start_time) / n\n",
        "    return np.mean(resultados), np.var(resultados), execution_time"
      ],
      "metadata": {
        "id": "XdhQlILhhvHl"
      },
      "execution_count": 17,
      "outputs": []
    },
    {
      "cell_type": "code",
      "source": [
        "mean, var, t = mc_acierto_reduccion_var(1000, 30)"
      ],
      "metadata": {
        "id": "56yp1V34l2Jy"
      },
      "execution_count": 18,
      "outputs": []
    },
    {
      "cell_type": "code",
      "source": [
        "print(\"Método Acierto y Error:                  media:\", mean1, \" varianza:\", var1, \" tiempo:\", t1)\n",
        "print(\"Método acierto y error con red de var:   media =\", mean, \" varianza =\", var, \" tiempo =\", t)"
      ],
      "metadata": {
        "id": "r9NCta2cl8db",
        "outputId": "1209c419-9e13-48f7-d6b1-0bc8339e27b1",
        "colab": {
          "base_uri": "https://localhost:8080/"
        }
      },
      "execution_count": 19,
      "outputs": [
        {
          "output_type": "stream",
          "name": "stdout",
          "text": [
            "Método Acierto y Error:                  media: 0.63047  varianza: 0.0023644791000000005  tiempo: 0.1675755180000067\n",
            "Método acierto y error con red de var:   media = 0.6312333333333332  varianza = 8.831222222222237e-05  tiempo = 0.002050842300000018\n"
          ]
        }
      ]
    },
    {
      "cell_type": "markdown",
      "source": [
        "Para ver en cuanto se redujo la varianza ocupamos lo siguiente\n",
        "$$ \\text{Reduccion} = \\frac{\\text{Varianza Original - Varianza Nueva}}{\\text{Varianza Original}} * 100 $$"
      ],
      "metadata": {
        "id": "SY4tHXHttAv7"
      }
    },
    {
      "cell_type": "code",
      "source": [
        "reduccion=((var1-var)/var1)*100"
      ],
      "metadata": {
        "id": "0ZKT9Z27tFWb"
      },
      "execution_count": 20,
      "outputs": []
    },
    {
      "cell_type": "code",
      "source": [
        "reduccion"
      ],
      "metadata": {
        "id": "5F1lhtbptUhz",
        "outputId": "3fa3315e-7ccf-4486-a8c1-c0d010d1d299",
        "colab": {
          "base_uri": "https://localhost:8080/"
        }
      },
      "execution_count": 21,
      "outputs": [
        {
          "output_type": "execute_result",
          "data": {
            "text/plain": [
              "np.float64(96.26504534456564)"
            ]
          },
          "metadata": {},
          "execution_count": 21
        }
      ]
    },
    {
      "cell_type": "markdown",
      "source": [
        "La varianza se redujo en un 96.25%"
      ],
      "metadata": {
        "id": "-6hot9Hdte31"
      }
    }
  ]
}