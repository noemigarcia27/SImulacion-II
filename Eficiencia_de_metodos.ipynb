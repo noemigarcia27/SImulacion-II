{
  "nbformat": 4,
  "nbformat_minor": 0,
  "metadata": {
    "colab": {
      "provenance": [],
      "authorship_tag": "ABX9TyOkb5HOGA5mIAd5Cu85QYUN",
      "include_colab_link": true
    },
    "kernelspec": {
      "name": "python3",
      "display_name": "Python 3"
    },
    "language_info": {
      "name": "python"
    }
  },
  "cells": [
    {
      "cell_type": "markdown",
      "metadata": {
        "id": "view-in-github",
        "colab_type": "text"
      },
      "source": [
        "<a href=\"https://colab.research.google.com/github/noemigarcia27/SImulacion-II/blob/main/Eficiencia_de_metodos.ipynb\" target=\"_parent\"><img src=\"https://colab.research.google.com/assets/colab-badge.svg\" alt=\"Open In Colab\"/></a>"
      ]
    },
    {
      "cell_type": "markdown",
      "source": [
        "# **Eficiencia del Método de Monte Carlo**"
      ],
      "metadata": {
        "id": "oTG19gJZMZ98"
      }
    },
    {
      "cell_type": "markdown",
      "source": [
        "Las librerias que vamos a ocupar son las siguientes"
      ],
      "metadata": {
        "id": "ZJ2t3lmDdcFy"
      }
    },
    {
      "cell_type": "code",
      "execution_count": 1,
      "metadata": {
        "id": "Is_Gfm_1Jw6Y"
      },
      "outputs": [],
      "source": [
        "import numpy as np\n",
        "import matplotlib.pyplot as plt\n",
        "import random as rd\n",
        "import time"
      ]
    },
    {
      "cell_type": "markdown",
      "source": [
        "Nuestra función para este ejercicio es:\n",
        "$$ g(x) = \\sqrt{arctan(x)} dx  $$"
      ],
      "metadata": {
        "id": "4u3ufBIldgIq"
      }
    },
    {
      "cell_type": "code",
      "source": [
        "def g(x):\n",
        "  return np.sqrt(np.arctan(x))"
      ],
      "metadata": {
        "id": "ah4JpLmXL4Xx"
      },
      "execution_count": 2,
      "outputs": []
    },
    {
      "cell_type": "markdown",
      "source": [
        "**Monte Carlo: acierto y error**"
      ],
      "metadata": {
        "id": "ytj52IOIMVRD"
      }
    },
    {
      "cell_type": "markdown",
      "source": [
        "Este es el codigo para el método de acierto y error, donde\n",
        "$$ \\theta_1= c(b-a) \\cdot \\frac{N_a}{N} $$"
      ],
      "metadata": {
        "id": "mzJS12U8d63N"
      }
    },
    {
      "cell_type": "code",
      "source": [
        "def mc_acierto(N, n, func=g, a=0.0, b=1.0, c=1.0):\n",
        "    thetas = []\n",
        "    t0 = time.perf_counter()\n",
        "    for _ in range(n):              # n repeticiones\n",
        "        Na = 0\n",
        "        for _ in range(N):          # N puntos en cada corrida\n",
        "            x = rd.random()*(b-a)+a # x uniformemente en [a,b]\n",
        "            y = rd.random()*c       # y uniformemente en [0,c]\n",
        "            if y <= func(x):\n",
        "                Na += 1\n",
        "        theta1 = c*(b-a)*(Na/N)     # Valor de \\theta_1\n",
        "        thetas.append(theta1)\n",
        "    t1 = time.perf_counter()\n",
        "    tiempo_promedio = (t1 - t0) / n\n",
        "    return np.mean(thetas), np.var(thetas), tiempo_promedio"
      ],
      "metadata": {
        "id": "ze5Mf5M8Qt_4"
      },
      "execution_count": 12,
      "outputs": []
    },
    {
      "cell_type": "code",
      "source": [
        "mc_acierto(1000,100)"
      ],
      "metadata": {
        "colab": {
          "base_uri": "https://localhost:8080/"
        },
        "id": "wQf1Y4fSUmMO",
        "outputId": "c6e1039f-a935-42a1-cb3b-696cb03b4345"
      },
      "execution_count": 13,
      "outputs": [
        {
          "output_type": "execute_result",
          "data": {
            "text/plain": [
              "(np.float64(0.63128), np.float64(0.0001874616000000003), 0.002287045059999855)"
            ]
          },
          "metadata": {},
          "execution_count": 13
        }
      ]
    },
    {
      "cell_type": "markdown",
      "source": [
        "**Monte Carlo crudo**\n",
        "El siguiente es el codigo para el método Monte Carlo crudo, donde\n",
        "$$ \\theta_2 = \\frac{b-a}{N} ∑_{i=1}^{N} g(x_i) $$"
      ],
      "metadata": {
        "id": "QC1bsMRYOAXU"
      }
    },
    {
      "cell_type": "code",
      "source": [
        "def mc_crudo(N, n, func=g, a=0.0, b=1.0):\n",
        "  thetas = []\n",
        "  t0 = time.perf_counter()\n",
        "  for _ in range(n):\n",
        "      suma = 0.0\n",
        "      for _ in range(N):\n",
        "        u = rd.random()\n",
        "        x = a + u * (b - a)\n",
        "        suma += func(x)\n",
        "      theta2 = (b - a) / N * suma\n",
        "      thetas.append(theta2)\n",
        "  t1 = time.perf_counter()\n",
        "  tiempo_promedio = (t1 - t0) / n\n",
        "  return np.mean(thetas), np.var(thetas), tiempo_promedio"
      ],
      "metadata": {
        "id": "eGHuJpLgOUBW"
      },
      "execution_count": 14,
      "outputs": []
    },
    {
      "cell_type": "code",
      "source": [
        "mc_crudo(1000,100)"
      ],
      "metadata": {
        "id": "WwzGIBNHIA8p",
        "outputId": "1faa10a8-0478-4f8f-bda4-d816be07de15",
        "colab": {
          "base_uri": "https://localhost:8080/"
        }
      },
      "execution_count": 15,
      "outputs": [
        {
          "output_type": "execute_result",
          "data": {
            "text/plain": [
              "(np.float64(0.6299321520225932),\n",
              " np.float64(3.657023994675622e-05),\n",
              " 0.0022044112499997937)"
            ]
          },
          "metadata": {},
          "execution_count": 15
        }
      ]
    },
    {
      "cell_type": "markdown",
      "source": [
        "Para revisar que método es más eficiente ocupamos la fórmula\n",
        "$$ \\epsilon = \\frac{t_1 \\text{Var}(\\theta_1)}{t_2 \\text{Var}(\\theta_2)} $$\n"
      ],
      "metadata": {
        "id": "8irMg7dXQcSZ"
      }
    },
    {
      "cell_type": "code",
      "source": [
        "mean1, var1, t1 = mc_acierto(1000,100)\n",
        "mean2, var2, t2 = mc_crudo(1000,100)"
      ],
      "metadata": {
        "id": "b5fTGh7JWPWa"
      },
      "execution_count": 16,
      "outputs": []
    },
    {
      "cell_type": "markdown",
      "source": [
        "Si $ \\epsilon = \\frac{t_2 \\text{Var}(\\theta_2)}{t_1 \\text{Var}(\\theta_1)} < 1 $, entones el segundo método es más eficiente, de lo contrario el segundo será más eficiente"
      ],
      "metadata": {
        "id": "nDdhEALIbr_3"
      }
    },
    {
      "cell_type": "code",
      "source": [
        "E = (t2 * var2) / (t1 * var1)"
      ],
      "metadata": {
        "id": "k5t0acuMaOK2"
      },
      "execution_count": 17,
      "outputs": []
    },
    {
      "cell_type": "code",
      "source": [
        "print(\"Método Acierto y Error:  media:\", mean1, \" varianza:\", var1, \" tiempo:\", t1)\n",
        "print(\"Método Crudo:            media:\", mean2, \" varianza:\", var2, \" tiempo:\", t2)\n",
        "print(\"Eficiencia (E):\", E)"
      ],
      "metadata": {
        "colab": {
          "base_uri": "https://localhost:8080/"
        },
        "id": "HtzW-R7NbDdW",
        "outputId": "d1ac5c6f-4cac-4e6c-a48b-5b89043c9f99"
      },
      "execution_count": 18,
      "outputs": [
        {
          "output_type": "stream",
          "name": "stdout",
          "text": [
            "Método Acierto y Error:  media: 0.62826  varianza: 0.00014921240000000024  tiempo: 0.002262464270000919\n",
            "Método Crudo:            media: 0.6291504010009826  varianza: 3.9382375941454437e-05  tiempo: 0.0021751871000003577\n",
            "Eficiencia (E): 0.2537534101989203\n"
          ]
        }
      ]
    },
    {
      "cell_type": "markdown",
      "source": [
        "Por lo tanto, el metodo de **Monte Carlo crudo es mas eficiente** que el metodo de acierto y error"
      ],
      "metadata": {
        "id": "mEryLB27RrEY"
      }
    }
  ]
}